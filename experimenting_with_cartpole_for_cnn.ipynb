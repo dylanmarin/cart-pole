{
 "cells": [
  {
   "cell_type": "code",
   "execution_count": 1,
   "metadata": {},
   "outputs": [],
   "source": [
    "import copy\n",
    "import math\n",
    "import os\n",
    "from collections import namedtuple\n",
    "\n",
    "import gym\n",
    "import ipywidgets as widgets\n",
    "import matplotlib.pyplot as plt\n",
    "import more_itertools as mitt\n",
    "import numpy as np\n",
    "import torch\n",
    "import torch.nn as nn\n",
    "import torch.nn.functional as F\n",
    "import tqdm\n",
    "\n",
    "plt.style.use(\"ggplot\")\n",
    "plt.rcParams[\"figure.figsize\"] = [12, 4]"
   ]
  },
  {
   "cell_type": "code",
   "execution_count": 7,
   "metadata": {},
   "outputs": [],
   "source": [
    "import matplotlib.pyplot as plt\n",
    "import cv2\n"
   ]
  },
  {
   "cell_type": "code",
   "execution_count": 2,
   "metadata": {},
   "outputs": [],
   "source": [
    "env = gym.make(\"CartPole-v1\")"
   ]
  },
  {
   "cell_type": "code",
   "execution_count": 396,
   "metadata": {},
   "outputs": [
    {
     "data": {
      "text/plain": [
       "array([-0.02604472, -0.02930951,  0.02581255,  0.01887188], dtype=float32)"
      ]
     },
     "execution_count": 396,
     "metadata": {},
     "output_type": "execute_result"
    }
   ],
   "source": [
    "env.reset()"
   ]
  },
  {
   "cell_type": "code",
   "execution_count": 399,
   "metadata": {},
   "outputs": [],
   "source": [
    "img = env.render(mode='rgb_array')\n",
    "def preprocess_frame(img, size=(400, 100)):\n",
    "    # cut off parts of image that nothing is happening in\n",
    "    img = img[300:600]\n",
    "\n",
    "    # take just the G values\n",
    "    img = img[:, :, 1]\n",
    "\n",
    "    # make black and white\n",
    "    img = np.where(img == 255, 1.0, 0.0)\n",
    "\n",
    "    # resize\n",
    "    img = cv2.resize(img, size, interpolation=cv2.INTER_CUBIC)\n",
    "\n",
    "    return img\n",
    "\n"
   ]
  },
  {
   "cell_type": "code",
   "execution_count": 401,
   "metadata": {},
   "outputs": [
    {
     "data": {
      "text/plain": [
       "(100, 400)"
      ]
     },
     "execution_count": 401,
     "metadata": {},
     "output_type": "execute_result"
    }
   ],
   "source": [
    "preprocess_frame(img).shape\n"
   ]
  },
  {
   "cell_type": "code",
   "execution_count": 400,
   "metadata": {},
   "outputs": [
    {
     "data": {
      "text/plain": [
       "<matplotlib.image.AxesImage at 0x7f863f679850>"
      ]
     },
     "execution_count": 400,
     "metadata": {},
     "output_type": "execute_result"
    },
    {
     "data": {
      "image/png": "[encoded data removed]",
      "text/plain": [
       "<Figure size 1200x400 with 1 Axes>"
      ]
     },
     "metadata": {},
     "output_type": "display_data"
    }
   ],
   "source": [
    "plt.imshow(preprocess_frame(img), cmap='gray')"
   ]
  },
  {
   "cell_type": "code",
   "execution_count": 395,
   "metadata": {},
   "outputs": [],
   "source": [
    "\n",
    "img = env.render(mode='rgb_array')\n",
    "        \n",
    "img_rgb = cv2.cvtColor(img, cv2.COLOR_RGB2GRAY)\n",
    "img_rgb_resized = cv2.resize(img_rgb, (100,400), interpolation=cv2.INTER_CUBIC)\n",
    "img_rgb_resized[img_rgb_resized < 255] = 0\n",
    "img_rgb_resized = img_rgb_resized / 255\n",
    "\n",
    "# image_memory = np.roll(self.image_memory, 1, axis = 0)\n",
    "# image_memory[0,:,:] = img_rgb_resized\n",
    "\n",
    "#self.imshow(self.image_memory,0)        \n",
    "# np.expand_dims(self.image_memory, axis=0)"
   ]
  }
 ],
 "metadata": {
  "kernelspec": {
   "display_name": "rl",
   "language": "python",
   "name": "python3"
  },
  "language_info": {
   "codemirror_mode": {
    "name": "ipython",
    "version": 3
   },
   "file_extension": ".py",
   "mimetype": "text/x-python",
   "name": "python",
   "nbconvert_exporter": "python",
   "pygments_lexer": "ipython3",
   "version": "3.9.18"
  }
 },
 "nbformat": 4,
 "nbformat_minor": 2
}
