{
 "cells": [
  {
   "cell_type": "code",
   "execution_count": 2,
   "metadata": {},
   "outputs": [
    {
     "data": {
      "text/plain": [
       "'\\nCart Pole:\\nObservation:\\n0: Cart Position [-4.8, 4.8], with episode ending at [-2.4, 2.4]\\n1: Cart Velocity [-Inf, Inf]\\n2: Pole Angle [-0.418, 0.418] (in radians) with episode ending at [-0.2095, 0.2095]\\n3: Pole Angular Velocity [-Inf, Inf]\\n\\nEnv.Reset():\\nreturns tuple:\\n0: observation\\n1: info\\n\\nEnv.Step():\\nreturns tuple:\\n0: observation\\n1: reward\\n2: done\\n3: truncated\\n4: info\\n\\n\\n\\nNotes:\\n\\n- optimistic initialization helped explore the unseen actions\\n- with optmistic intialization, both reward functions performed similarly\\n- without optimistic initialization:\\n    - TBD\\n\\n- TODO: \\n    - try epsilon greedy MC\\n    - try off policy MC\\n    - evaluate first visit vs every visit\\n'"
      ]
     },
     "execution_count": 2,
     "metadata": {},
     "output_type": "execute_result"
    }
   ],
   "source": [
    "\"\"\"\n",
    "Cart Pole:\n",
    "Observation:\n",
    "0: Cart Position [-4.8, 4.8], with episode ending at [-2.4, 2.4]\n",
    "1: Cart Velocity [-Inf, Inf]\n",
    "2: Pole Angle [-0.418, 0.418] (in radians) with episode ending at [-0.2095, 0.2095]\n",
    "3: Pole Angular Velocity [-Inf, Inf]\n",
    "\n",
    "Env.Reset():\n",
    "returns tuple:\n",
    "0: observation\n",
    "1: info\n",
    "\n",
    "Env.Step():\n",
    "returns tuple:\n",
    "0: observation\n",
    "1: reward\n",
    "2: done\n",
    "3: truncated\n",
    "4: info\n",
    "\n",
    "Notes:\n",
    "\n",
    "- optimistic initialization helped explore the unseen actions\n",
    "- with optmistic intialization, both reward functions performed similarly\n",
    "- e-soft:\n",
    "    - with 10000 steps, and epsilon 0.01 performs worse than optimistic initialization\n",
    "        - no obvious differnce between epsilon soft with custom reward function (50-50 cart position : pole angle)\n",
    "    - 6,000 steps, 5 trials averaged, 0.04 epsilon:\n",
    "        - still performs worse than optimistic initially\n",
    "        - custom reward function (80% pole angle - 20% cart position) may be overtaking default reward function it around 6000 steps?\n",
    "    - 10,000 steps, 2 trials averaged, 0.04 epsilon\n",
    "        - custom reword (80:20) results in much longer episode lengths        \n",
    "- every visit vs first visit has no distiguishable differece in performance both in returns and \n",
    "    \n",
    "- TODO: \n",
    "    - try off policy MC\n",
    "\"\"\""
   ]
  },
  {
   "cell_type": "code",
   "execution_count": 1,
   "metadata": {},
   "outputs": [],
   "source": [
    "from discretize import discretize\n",
    "from collections import defaultdict\n",
    "from monte_carlo import *\n",
    "from q_io import *\n",
    "import gymnasium as gym\n",
    "from plots import *"
   ]
  },
  {
   "cell_type": "code",
   "execution_count": 2,
   "metadata": {},
   "outputs": [],
   "source": [
    "epsilon = 0.04\n",
    "num_episodes = 10000\n",
    "gamma = 0.95\n",
    "num_to_avg = 2\n",
    "env = gym.make('CartPole-v1')"
   ]
  },
  {
   "cell_type": "code",
   "execution_count": null,
   "metadata": {},
   "outputs": [],
   "source": []
  },
  {
   "cell_type": "code",
   "execution_count": 12,
   "metadata": {},
   "outputs": [
    {
     "name": "stderr",
     "output_type": "stream",
     "text": [
      "                                                              \r"
     ]
    }
   ],
   "source": [
    "# all_Qs = []\n",
    "# all_policies = []\n",
    "# all_returns = []\n",
    "# all_episode_lengths = []\n",
    "\n",
    "# for i in range(num_to_avg):\n",
    "#     Q, policy, returns, episode_lengths = on_policy_mc_control_epsilon_soft(env, num_episodes, gamma, epsilon)\n",
    "#     all_Qs.append(Q)\n",
    "#     all_policies.append(policy)\n",
    "#     all_returns.append(returns)\n",
    "#     all_episode_lengths.append(episode_lengths)\n",
    "\n",
    "# avg_returns_e_soft = np.average(all_returns, axis=0)\n",
    "# avg_episode_lengths_e_soft = np.average(all_episode_lengths, axis=0)"
   ]
  },
  {
   "cell_type": "code",
   "execution_count": 3,
   "metadata": {},
   "outputs": [
    {
     "name": "stderr",
     "output_type": "stream",
     "text": [
      "                                                              \r"
     ]
    }
   ],
   "source": [
    "all_Qs = []\n",
    "all_policies = []\n",
    "all_returns = []\n",
    "all_episode_lengths = []\n",
    "\n",
    "for i in range(num_to_avg):\n",
    "    Q, policy, returns, episode_lengths = on_policy_mc_control_epsilon_soft_every_visit(\n",
    "        env,\n",
    "        num_episodes,\n",
    "        gamma,\n",
    "        epsilon,\n",
    "        episode_generator_func=generate_episode_reward_central_vertical,\n",
    "    )\n",
    "    all_Qs.append(Q)\n",
    "    all_policies.append(policy)\n",
    "    all_returns.append(returns)\n",
    "    all_episode_lengths.append(episode_lengths)\n",
    "\n",
    "avg_returns_e_soft_custom_reward_every_visit = np.average(all_returns, axis=0)\n",
    "avg_episode_lengths_e_soft_custom_reward_every_visit = np.average(all_episode_lengths, axis=0)"
   ]
  },
  {
   "cell_type": "code",
   "execution_count": 4,
   "metadata": {},
   "outputs": [
    {
     "name": "stderr",
     "output_type": "stream",
     "text": [
      "                                                              \r"
     ]
    }
   ],
   "source": [
    "all_Qs = []\n",
    "all_policies = []\n",
    "all_returns = []\n",
    "all_episode_lengths = []\n",
    "\n",
    "for i in range(num_to_avg):\n",
    "    Q, policy, returns, episode_lengths = on_policy_mc_control_epsilon_soft(\n",
    "        env,\n",
    "        num_episodes,\n",
    "        gamma,\n",
    "        epsilon,\n",
    "        episode_generator_func=generate_episode_reward_central_vertical,\n",
    "    )\n",
    "    all_Qs.append(Q)\n",
    "    all_policies.append(policy)\n",
    "    all_returns.append(returns)\n",
    "    all_episode_lengths.append(episode_lengths)\n",
    "\n",
    "avg_returns_e_soft_custom_reward = np.average(all_returns, axis=0)\n",
    "avg_episode_lengths_e_soft_custom_reward = np.average(all_episode_lengths, axis=0)"
   ]
  },
  {
   "cell_type": "code",
   "execution_count": 14,
   "metadata": {},
   "outputs": [],
   "source": [
    "# save_array(avg_returns_e_soft, \"testing/10000_eps_95gamma_04epsilon/e_soft_returns_default.csv\")\n",
    "# save_array(avg_episode_lengths_e_soft, \"testing/10000_eps_95gamma_04epsilon/e_soft_episode_lengths_default.csv\")\n",
    "# save_array(avg_returns_optimistic, \"testing/6000_ep_95gamma_0.04epsilon/optimistic_returns_default.csv\")\n",
    "# save_array(avg_episode_lengths_optimistic, \"testing/6000_ep_95gamma_0.04epsilon/optimistic_episode_lengths_default.csv\")\n",
    "# save_array(avg_returns_e_soft_custom_reward, \"testing/10000_eps_95gamma_04epsilon/e_soft_returns_custom_reward.csv\")\n",
    "# save_array(avg_episode_lengths_e_soft_custom_reward, \"testing/10000_eps_95gamma_04epsilon/e_soft_episode_lengths_custom_reward.csv\")\n",
    "\n",
    "\n",
    "# avg_returns_e_soft = load_array(\"testing/e_soft_returns_default.csv\")\n",
    "# avg_episode_lengths_e_soft = load_array(\"testing/e_soft_episode_lengths_default.csv\")\n",
    "# avg_returns_optimistic = load_array(\"testing/10000_eps_99gamma_0.01epsilon_10_averaged/optimistic_returns_default.csv\")\n",
    "# avg_episode_lengths_optimistic = load_array(\"testing/10000_eps_99gamma_0.01epsilon_10_averaged/optimistic_episode_lengths_default.csv\")\n",
    "# avg_returns_e_soft_custom_reward = load_array(\"testing/e_soft_returns_custom_reward.csv\")\n",
    "# avg_episode_lengths_e_soft_custom_reward = load_array(\"testing/e_soft_episode_lengths_custom_reward.csv\")"
   ]
  },
  {
   "cell_type": "code",
   "execution_count": 13,
   "metadata": {},
   "outputs": [
    {
     "data": {
      "image/png": "[encoded data removed]",
      "text/plain": [
       "<Figure size 1800x360 with 1 Axes>"
      ]
     },
     "metadata": {
      "needs_background": "light"
     },
     "output_type": "display_data"
    }
   ],
   "source": [
    "k = 1\n",
    "\n",
    "# plot_returns_different_agents(\n",
    "#     [\n",
    "#         avg_episode_lengths_e_soft_custom_reward[::k],\n",
    "#         avg_episode_lengths_e_soft_custom_reward_every_visit[::k],\n",
    "#     ],\n",
    "#     [\"first visit\", \"every visit\"],\n",
    "# )\n",
    "\n",
    "\n",
    "list_1 = []\n",
    "list_2 = []\n",
    "step_size = 50\n",
    "sum_1 = 0\n",
    "sum_2 = 0\n",
    "for i in range(10000):\n",
    "    if i % step_size == 0:\n",
    "        list_1.append(sum_1 / step_size)\n",
    "        list_2.append(sum_2 / step_size)\n",
    "        sum_1 = 0\n",
    "        sum_2 = 0\n",
    "    sum_1 += avg_returns_e_soft_custom_reward[i]\n",
    "    sum_2 += avg_returns_e_soft_custom_reward_every_visit[i]\n",
    "\n",
    "\n",
    "plot_returns_different_agents(\n",
    "    [list_1, list_2], [\"e-soft custom reward\", \"e-soft custom reward every visit\"]\n",
    ")"
   ]
  },
  {
   "cell_type": "code",
   "execution_count": 28,
   "metadata": {},
   "outputs": [
    {
     "ename": "KeyboardInterrupt",
     "evalue": "",
     "output_type": "error",
     "traceback": [
      "\u001b[0;31m---------------------------------------------------------------------------\u001b[0m",
      "\u001b[0;31mKeyboardInterrupt\u001b[0m                         Traceback (most recent call last)",
      "\u001b[1;32m/Users/dylanmarin/Documents/neu/fall23/cart-pole/cart-pole.ipynb Cell 11\u001b[0m line \u001b[0;36m<cell line: 3>\u001b[0;34m()\u001b[0m\n\u001b[1;32m      <a href='vscode-notebook-cell:/Users/dylanmarin/Documents/neu/fall23/cart-pole/cart-pole.ipynb#X55sZmlsZQ%3D%3D?line=0'>1</a>\u001b[0m env \u001b[39m=\u001b[39m gym\u001b[39m.\u001b[39mmake(\u001b[39m'\u001b[39m\u001b[39mCartPole-v1\u001b[39m\u001b[39m'\u001b[39m, render_mode\u001b[39m=\u001b[39m\u001b[39m'\u001b[39m\u001b[39mhuman\u001b[39m\u001b[39m'\u001b[39m)\n\u001b[1;32m      <a href='vscode-notebook-cell:/Users/dylanmarin/Documents/neu/fall23/cart-pole/cart-pole.ipynb#X55sZmlsZQ%3D%3D?line=1'>2</a>\u001b[0m \u001b[39m# Q = load_q_values(\"optimistic_initialization/large_negative_reward/q/5000_episodes_95_gamma_0.csv\")\u001b[39;00m\n\u001b[0;32m----> <a href='vscode-notebook-cell:/Users/dylanmarin/Documents/neu/fall23/cart-pole/cart-pole.ipynb#X55sZmlsZQ%3D%3D?line=2'>3</a>\u001b[0m run_iterations(env, Q, \u001b[39m10\u001b[39;49m)\n",
      "File \u001b[0;32m~/Documents/neu/fall23/cart-pole/monte_carlo.py:317\u001b[0m, in \u001b[0;36mrun_iterations\u001b[0;34m(env, Q, n)\u001b[0m\n\u001b[1;32m    315\u001b[0m \u001b[39mdef\u001b[39;00m \u001b[39mrun_iterations\u001b[39m(env, Q, n\u001b[39m=\u001b[39m\u001b[39m10\u001b[39m):\n\u001b[1;32m    316\u001b[0m     \u001b[39mfor\u001b[39;00m i \u001b[39min\u001b[39;00m \u001b[39mrange\u001b[39m(n):\n\u001b[0;32m--> 317\u001b[0m         generate_episode(env, create_policy(Q))\n",
      "File \u001b[0;32m~/Documents/neu/fall23/cart-pole/monte_carlo.py:27\u001b[0m, in \u001b[0;36mgenerate_episode\u001b[0;34m(env, policy, es)\u001b[0m\n\u001b[1;32m     24\u001b[0m \u001b[39melse\u001b[39;00m:\n\u001b[1;32m     25\u001b[0m     action \u001b[39m=\u001b[39m policy(state)\n\u001b[0;32m---> 27\u001b[0m next_state, reward, done, _, _ \u001b[39m=\u001b[39m discretize(env\u001b[39m.\u001b[39;49mstep(action))\n\u001b[1;32m     28\u001b[0m episode\u001b[39m.\u001b[39mappend((state, action, reward))\n\u001b[1;32m     29\u001b[0m \u001b[39mif\u001b[39;00m done:\n",
      "File \u001b[0;32m~/opt/anaconda3/lib/python3.9/site-packages/gymnasium/wrappers/time_limit.py:57\u001b[0m, in \u001b[0;36mTimeLimit.step\u001b[0;34m(self, action)\u001b[0m\n\u001b[1;32m     46\u001b[0m \u001b[39mdef\u001b[39;00m \u001b[39mstep\u001b[39m(\u001b[39mself\u001b[39m, action):\n\u001b[1;32m     47\u001b[0m     \u001b[39m\"\"\"Steps through the environment and if the number of steps elapsed exceeds ``max_episode_steps`` then truncate.\u001b[39;00m\n\u001b[1;32m     48\u001b[0m \n\u001b[1;32m     49\u001b[0m \u001b[39m    Args:\u001b[39;00m\n\u001b[0;32m   (...)\u001b[0m\n\u001b[1;32m     55\u001b[0m \n\u001b[1;32m     56\u001b[0m \u001b[39m    \"\"\"\u001b[39;00m\n\u001b[0;32m---> 57\u001b[0m     observation, reward, terminated, truncated, info \u001b[39m=\u001b[39m \u001b[39mself\u001b[39;49m\u001b[39m.\u001b[39;49menv\u001b[39m.\u001b[39;49mstep(action)\n\u001b[1;32m     58\u001b[0m     \u001b[39mself\u001b[39m\u001b[39m.\u001b[39m_elapsed_steps \u001b[39m+\u001b[39m\u001b[39m=\u001b[39m \u001b[39m1\u001b[39m\n\u001b[1;32m     60\u001b[0m     \u001b[39mif\u001b[39;00m \u001b[39mself\u001b[39m\u001b[39m.\u001b[39m_elapsed_steps \u001b[39m>\u001b[39m\u001b[39m=\u001b[39m \u001b[39mself\u001b[39m\u001b[39m.\u001b[39m_max_episode_steps:\n",
      "File \u001b[0;32m~/opt/anaconda3/lib/python3.9/site-packages/gymnasium/wrappers/order_enforcing.py:56\u001b[0m, in \u001b[0;36mOrderEnforcing.step\u001b[0;34m(self, action)\u001b[0m\n\u001b[1;32m     54\u001b[0m \u001b[39mif\u001b[39;00m \u001b[39mnot\u001b[39;00m \u001b[39mself\u001b[39m\u001b[39m.\u001b[39m_has_reset:\n\u001b[1;32m     55\u001b[0m     \u001b[39mraise\u001b[39;00m ResetNeeded(\u001b[39m\"\u001b[39m\u001b[39mCannot call env.step() before calling env.reset()\u001b[39m\u001b[39m\"\u001b[39m)\n\u001b[0;32m---> 56\u001b[0m \u001b[39mreturn\u001b[39;00m \u001b[39mself\u001b[39;49m\u001b[39m.\u001b[39;49menv\u001b[39m.\u001b[39;49mstep(action)\n",
      "File \u001b[0;32m~/opt/anaconda3/lib/python3.9/site-packages/gymnasium/wrappers/env_checker.py:51\u001b[0m, in \u001b[0;36mPassiveEnvChecker.step\u001b[0;34m(self, action)\u001b[0m\n\u001b[1;32m     49\u001b[0m     \u001b[39mreturn\u001b[39;00m env_step_passive_checker(\u001b[39mself\u001b[39m\u001b[39m.\u001b[39menv, action)\n\u001b[1;32m     50\u001b[0m \u001b[39melse\u001b[39;00m:\n\u001b[0;32m---> 51\u001b[0m     \u001b[39mreturn\u001b[39;00m \u001b[39mself\u001b[39;49m\u001b[39m.\u001b[39;49menv\u001b[39m.\u001b[39;49mstep(action)\n",
      "File \u001b[0;32m~/opt/anaconda3/lib/python3.9/site-packages/gymnasium/envs/classic_control/cartpole.py:190\u001b[0m, in \u001b[0;36mCartPoleEnv.step\u001b[0;34m(self, action)\u001b[0m\n\u001b[1;32m    187\u001b[0m     reward \u001b[39m=\u001b[39m \u001b[39m0.0\u001b[39m\n\u001b[1;32m    189\u001b[0m \u001b[39mif\u001b[39;00m \u001b[39mself\u001b[39m\u001b[39m.\u001b[39mrender_mode \u001b[39m==\u001b[39m \u001b[39m\"\u001b[39m\u001b[39mhuman\u001b[39m\u001b[39m\"\u001b[39m:\n\u001b[0;32m--> 190\u001b[0m     \u001b[39mself\u001b[39;49m\u001b[39m.\u001b[39;49mrender()\n\u001b[1;32m    191\u001b[0m \u001b[39mreturn\u001b[39;00m np\u001b[39m.\u001b[39marray(\u001b[39mself\u001b[39m\u001b[39m.\u001b[39mstate, dtype\u001b[39m=\u001b[39mnp\u001b[39m.\u001b[39mfloat32), reward, terminated, \u001b[39mFalse\u001b[39;00m, {}\n",
      "File \u001b[0;32m~/opt/anaconda3/lib/python3.9/site-packages/gymnasium/envs/classic_control/cartpole.py:303\u001b[0m, in \u001b[0;36mCartPoleEnv.render\u001b[0;34m(self)\u001b[0m\n\u001b[1;32m    301\u001b[0m     pygame\u001b[39m.\u001b[39mevent\u001b[39m.\u001b[39mpump()\n\u001b[1;32m    302\u001b[0m     \u001b[39mself\u001b[39m\u001b[39m.\u001b[39mclock\u001b[39m.\u001b[39mtick(\u001b[39mself\u001b[39m\u001b[39m.\u001b[39mmetadata[\u001b[39m\"\u001b[39m\u001b[39mrender_fps\u001b[39m\u001b[39m\"\u001b[39m])\n\u001b[0;32m--> 303\u001b[0m     pygame\u001b[39m.\u001b[39;49mdisplay\u001b[39m.\u001b[39;49mflip()\n\u001b[1;32m    305\u001b[0m \u001b[39melif\u001b[39;00m \u001b[39mself\u001b[39m\u001b[39m.\u001b[39mrender_mode \u001b[39m==\u001b[39m \u001b[39m\"\u001b[39m\u001b[39mrgb_array\u001b[39m\u001b[39m\"\u001b[39m:\n\u001b[1;32m    306\u001b[0m     \u001b[39mreturn\u001b[39;00m np\u001b[39m.\u001b[39mtranspose(\n\u001b[1;32m    307\u001b[0m         np\u001b[39m.\u001b[39marray(pygame\u001b[39m.\u001b[39msurfarray\u001b[39m.\u001b[39mpixels3d(\u001b[39mself\u001b[39m\u001b[39m.\u001b[39mscreen)), axes\u001b[39m=\u001b[39m(\u001b[39m1\u001b[39m, \u001b[39m0\u001b[39m, \u001b[39m2\u001b[39m)\n\u001b[1;32m    308\u001b[0m     )\n",
      "\u001b[0;31mKeyboardInterrupt\u001b[0m: "
     ]
    }
   ],
   "source": [
    "env = gym.make('CartPole-v1', render_mode='human')\n",
    "# Q = load_q_values(\"optimistic_initialization/large_negative_reward/q/5000_episodes_95_gamma_0.csv\")\n",
    "run_iterations(env, Q, 10)"
   ]
  },
  {
   "cell_type": "code",
   "execution_count": null,
   "metadata": {},
   "outputs": [],
   "source": [
    "# # load values\n",
    "# returns_neg_reward = [[] for i in range(5)]\n",
    "# episode_lengths_neg_reward = [[] for i in range(5)]\n",
    "# returns_reg_reward = [[] for i in range(5)]\n",
    "# episode_lengths_reg_reward = [[] for i in range(5)]\n",
    "\n",
    "# for i in range(5):\n",
    "#     returns_neg_reward[i] = load_array(f\"optimistic_initialization/large_negative_reward/returns/5000_episodes_95_gamma_{i}.csv\")\n",
    "#     episode_lengths_neg_reward[i] = load_array(f\"optimistic_initialization/large_negative_reward/episode_length/5000_episodes_95_gamma_{i}.csv\")\n",
    "#     returns_reg_reward[i] = load_array(f\"optimistic_initialization/regular_reward/returns/5000_episodes_95_gamma_{i}.csv\")\n",
    "#     episode_lengths_reg_reward[i] = load_array(f\"optimistic_initialization/regular_reward/episode_length/5000_episodes_95_gamma_{i}.csv\")\n"
   ]
  },
  {
   "cell_type": "code",
   "execution_count": 8,
   "metadata": {},
   "outputs": [
    {
     "ename": "NameError",
     "evalue": "name 'returns_neg_reward' is not defined",
     "output_type": "error",
     "traceback": [
      "\u001b[0;31m---------------------------------------------------------------------------\u001b[0m",
      "\u001b[0;31mNameError\u001b[0m                                 Traceback (most recent call last)",
      "\u001b[1;32m/Users/dylanmarin/Documents/neu/fall23/cart-pole/cart-pole.ipynb Cell 8\u001b[0m line \u001b[0;36m<cell line: 1>\u001b[0;34m()\u001b[0m\n\u001b[0;32m----> <a href='vscode-notebook-cell:/Users/dylanmarin/Documents/neu/fall23/cart-pole/cart-pole.ipynb#X51sZmlsZQ%3D%3D?line=0'>1</a>\u001b[0m plot_returns([returns_neg_reward], [\u001b[39m'\u001b[39m\u001b[39mnegative reward\u001b[39m\u001b[39m'\u001b[39m])\n",
      "\u001b[0;31mNameError\u001b[0m: name 'returns_neg_reward' is not defined"
     ]
    }
   ],
   "source": [
    "plot_returns([returns_neg_reward], ['negative reward'])"
   ]
  },
  {
   "cell_type": "code",
   "execution_count": null,
   "metadata": {},
   "outputs": [],
   "source": [
    "plot_returns([returns_reg_reward], ['regular reward'])\n"
   ]
  },
  {
   "cell_type": "code",
   "execution_count": null,
   "metadata": {},
   "outputs": [],
   "source": [
    "plot_single_iteration_returns(np.log10(np.average(episode_lengths_reg_reward, axis=0)))"
   ]
  },
  {
   "cell_type": "code",
   "execution_count": null,
   "metadata": {},
   "outputs": [],
   "source": [
    "plot_single_iteration_returns(np.log10(np.average(episode_lengths_neg_reward, axis=0)))"
   ]
  }
 ],
 "metadata": {
  "kernelspec": {
   "display_name": "base",
   "language": "python",
   "name": "python3"
  },
  "language_info": {
   "codemirror_mode": {
    "name": "ipython",
    "version": 3
   },
   "file_extension": ".py",
   "mimetype": "text/x-python",
   "name": "python",
   "nbconvert_exporter": "python",
   "pygments_lexer": "ipython3",
   "version": "3.9.12"
  }
 },
 "nbformat": 4,
 "nbformat_minor": 2
}
