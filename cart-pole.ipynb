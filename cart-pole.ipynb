{
 "cells": [
  {
   "cell_type": "code",
   "execution_count": null,
   "metadata": {},
   "outputs": [],
   "source": [
    "\"\"\"\n",
    "Cart Pole:\n",
    "Observation:\n",
    "0: Cart Position [-4.8, 4.8], with episode ending at [-2.4, 2.4]\n",
    "1: Cart Velocity [-Inf, Inf]\n",
    "2: Pole Angle [-0.418, 0.418] (in radians) with episode ending at [-0.2095, 0.2095]\n",
    "3: Pole Angular Velocity [-Inf, Inf]\n",
    "\n",
    "Env.Reset():\n",
    "returns tuple:\n",
    "0: observation\n",
    "1: info\n",
    "\n",
    "Env.Step():\n",
    "returns tuple:\n",
    "0: observation\n",
    "1: reward\n",
    "2: done\n",
    "3: truncated\n",
    "4: info\n",
    "\"\"\"\n",
    "\n"
   ]
  },
  {
   "cell_type": "code",
   "execution_count": 1,
   "metadata": {},
   "outputs": [],
   "source": [
    "from discretize import discretize\n",
    "from collections import defaultdict\n",
    "from monte_carlo import *\n",
    "from q_io import *\n",
    "import gymnasium as gym"
   ]
  },
  {
   "cell_type": "code",
   "execution_count": null,
   "metadata": {},
   "outputs": [],
   "source": [
    "env = gym.make('CartPole-v1', render_mode=\"human\")"
   ]
  },
  {
   "cell_type": "code",
   "execution_count": 2,
   "metadata": {},
   "outputs": [
    {
     "ename": "NameError",
     "evalue": "name 'env' is not defined",
     "output_type": "error",
     "traceback": [
      "\u001b[0;31m---------------------------------------------------------------------------\u001b[0m",
      "\u001b[0;31mNameError\u001b[0m                                 Traceback (most recent call last)",
      "\u001b[1;32m/Users/dylanmarin/Documents/neu/fall23/cart-pole/cart-pole.ipynb Cell 4\u001b[0m line \u001b[0;36m<cell line: 1>\u001b[0;34m()\u001b[0m\n\u001b[0;32m----> <a href='vscode-notebook-cell:/Users/dylanmarin/Documents/neu/fall23/cart-pole/cart-pole.ipynb#X13sZmlsZQ%3D%3D?line=0'>1</a>\u001b[0m Q, policy \u001b[39m=\u001b[39m on_policy_mc_control_es(env, \u001b[39m1000\u001b[39m, \u001b[39m1\u001b[39m)\n",
      "\u001b[0;31mNameError\u001b[0m: name 'env' is not defined"
     ]
    }
   ],
   "source": [
    "Q, policy = on_policy_mc_control_es(env, 1000, 1)"
   ]
  },
  {
   "cell_type": "code",
   "execution_count": 3,
   "metadata": {},
   "outputs": [
    {
     "name": "stderr",
     "output_type": "stream",
     "text": [
      "Episode: 100%|██████████| 1000/1000 [00:01<00:00, 578.19it/s]\n"
     ]
    }
   ],
   "source": [
    "env = gym.make('CartPole-v1')\n",
    "new_Q, new_policy = on_policy_mc_control_es(env, 1000, 1)"
   ]
  },
  {
   "cell_type": "code",
   "execution_count": null,
   "metadata": {},
   "outputs": [],
   "source": [
    "env = gym.make('CartPole-v1', render_mode=\"human\")\n",
    "run_iterations(env, new_Q, 100)"
   ]
  },
  {
   "cell_type": "code",
   "execution_count": 7,
   "metadata": {},
   "outputs": [
    {
     "name": "stdout",
     "output_type": "stream",
     "text": [
      "1\n",
      "2\n"
     ]
    }
   ],
   "source": [
    "save_q_values(new_Q, \"test.csv\")"
   ]
  }
 ],
 "metadata": {
  "kernelspec": {
   "display_name": "base",
   "language": "python",
   "name": "python3"
  },
  "language_info": {
   "codemirror_mode": {
    "name": "ipython",
    "version": 3
   },
   "file_extension": ".py",
   "mimetype": "text/x-python",
   "name": "python",
   "nbconvert_exporter": "python",
   "pygments_lexer": "ipython3",
   "version": "3.9.12"
  }
 },
 "nbformat": 4,
 "nbformat_minor": 2
}
