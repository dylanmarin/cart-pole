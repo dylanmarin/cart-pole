{
 "cells": [
  {
   "cell_type": "markdown",
   "metadata": {},
   "source": [
    "__Goal__ \n",
    "\n",
    "Test:\n",
    "- MC e-soft normal reward\n",
    "- MC e-soft custom reward\n",
    "- SARSA \n",
    "- 6-step SARSA\n",
    "- exp-SARSA\n",
    "- Q-Learning\n",
    "\n",
    "10,000 episodes, average of 10 trials"
   ]
  },
  {
   "cell_type": "code",
   "execution_count": 1,
   "metadata": {},
   "outputs": [],
   "source": [
    "from discretize import discretize\n",
    "from collections import defaultdict\n",
    "from monte_carlo import *\n",
    "from q_io import *\n",
    "from tqdm import trange\n",
    "from td_methods import *\n",
    "import gymnasium as gym\n",
    "from plots import *"
   ]
  },
  {
   "cell_type": "code",
   "execution_count": 2,
   "metadata": {},
   "outputs": [],
   "source": [
    "epsilon = 0.04\n",
    "num_episodes = 10000\n",
    "gamma = 0.95\n",
    "num_to_avg = 1\n",
    "step_size = 0.5\n",
    "env = gym.make('CartPole-v1')\n",
    "seed = 123"
   ]
  },
  {
   "cell_type": "code",
   "execution_count": 51,
   "metadata": {},
   "outputs": [],
   "source": [
    "# Monte Carlo Default Reward\n",
    "mc_e_soft_ep_lengths_default = []\n",
    "\n",
    "# np.random.seed(seed)\n",
    "# env.reset(seed=seed)\n",
    "# for i in range(num_to_avg):\n",
    "#     Q, policy, _, ep_lengths = on_policy_mc_control_epsilon_soft(env=env, epsilon=epsilon, num_episodes=num_episodes, gamma=gamma)\n",
    "#     mc_e_soft_ep_lengths_default.append(ep_lengths)\n",
    "#     save_array(ep_lengths, f'comparison/mc_default_ep_lengths_{i}.txt')\n",
    "\n",
    "# 10,000 episodes - 10 runs - epsilon = 0.04 - gamma = 0.95 - step_size = 0.5\n",
    "for i in range(num_to_avg):\n",
    "    array = load_array(f'comparison/mc_default_ep_lengths_{i}.txt')\n",
    "    mc_e_soft_ep_lengths_default.append(array)\n"
   ]
  },
  {
   "cell_type": "code",
   "execution_count": 4,
   "metadata": {},
   "outputs": [],
   "source": [
    "# Monte Carlo Custom Reward\n",
    "mc_e_soft_ep_lengths_custom = []\n",
    "\n",
    "# np.random.seed(seed)\n",
    "# env.reset(seed=seed)\n",
    "# for i in range(num_to_avg):\n",
    "#     Q, policy, _, ep_lengths = on_policy_mc_control_epsilon_soft(env=env, epsilon=epsilon, num_episodes=num_episodes, gamma=gamma, episode_generator_func=generate_episode_reward_central_vertical)\n",
    "#     mc_e_soft_ep_lengths_custom.append(ep_lengths)\n",
    "#     save_array(ep_lengths, f'comparison/mc_custom_ep_lengths_{i}.txt')\n",
    "\n",
    "for i in range(num_to_avg):\n",
    "    array = load_array(f'comparison/mc_custom_ep_lengths_{i}.txt')\n",
    "    mc_e_soft_ep_lengths_custom.append(array)"
   ]
  },
  {
   "cell_type": "code",
   "execution_count": 5,
   "metadata": {},
   "outputs": [],
   "source": [
    "# # SARSA\n",
    "sarsa_ep_lengths = []\n",
    "\n",
    "# np.random.seed(seed)\n",
    "# env.reset(seed=seed)\n",
    "# for i in range(num_to_avg):\n",
    "#     Q, policy, ep_lengths = sarsa(env=env, epsilon=epsilon, step_size=step_size, num_eps=num_episodes, gamma=gamma)\n",
    "#     sarsa_ep_lengths.append(ep_lengths)\n",
    "#     save_array(ep_lengths, f'comparison/sarsa_ep_lengths_{i}.txt')\n",
    "\n",
    "for i in range(num_to_avg):\n",
    "    array = load_array(f'comparison/sarsa_ep_lengths_{i}.txt')\n",
    "    sarsa_ep_lengths.append(array)"
   ]
  },
  {
   "cell_type": "code",
   "execution_count": 52,
   "metadata": {},
   "outputs": [
    {
     "name": "stderr",
     "output_type": "stream",
     "text": [
      "100%|██████████| 50000/50000 [04:49<00:00, 172.84it/s]\n"
     ]
    }
   ],
   "source": [
    "# # 6-step SARSA\n",
    "n_step_sarsa_ep_lengths = []\n",
    "\n",
    "# even n-step with n=1000 isnt exactly MC because the step size parameter is different than 1/N for MC\n",
    "\n",
    "np.random.seed(seed)\n",
    "env.reset(seed=seed)\n",
    "for i in range(num_to_avg):\n",
    "    Q, policy, ep_lengths = nstep_sarsa(env=env, epsilon=epsilon, step_size=step_size, num_eps=num_episodes, gamma=gamma, n=1000)\n",
    "    n_step_sarsa_ep_lengths.append(ep_lengths)\n",
    "    # save_array(ep_lengths, f'comparison/n_step_sarsa_ep_lengths_{i}.txt')\n",
    "\n",
    "# for i in range(num_to_avg):\n",
    "#     array = load_array(f'comparison/n_step_sarsa_ep_lengths_{i}.txt')\n",
    "#     n_step_sarsa_ep_lengths.append(array)"
   ]
  },
  {
   "cell_type": "code",
   "execution_count": 44,
   "metadata": {},
   "outputs": [],
   "source": [
    "# num_to_avg = 1\n",
    "# num_episodes = 2\n",
    "# np.random.seed(seed)\n",
    "# env.reset(seed=seed)\n",
    "# for i in range(num_to_avg):\n",
    "#     Q1, policy1, ep_lengths1 = nstep_sarsa(env=env, epsilon=epsilon, step_size=1, num_eps=num_episodes, gamma=gamma, n=400)\n",
    "\n",
    "# print('test')\n",
    "# np.random.seed(seed)\n",
    "# env.reset(seed=seed)\n",
    "# for i in range(num_to_avg):\n",
    "#     Q2, policy2, _, ep_lengths2 = on_policy_mc_control_epsilon_soft(env=env, epsilon=epsilon, num_episodes=num_episodes, gamma=gamma)\n",
    "\n",
    "# # print(Q1)\n",
    "# # print(Q2)\n",
    "# # print(ep_lengths1)\n",
    "# # print(ep_lengths2)"
   ]
  },
  {
   "cell_type": "code",
   "execution_count": 45,
   "metadata": {},
   "outputs": [],
   "source": [
    "# # Expected SARSA\n",
    "exp_sarsa_ep_lengths = []\n",
    "\n",
    "# np.random.seed(seed)\n",
    "# env.reset(seed=seed)\n",
    "# for i in range(num_to_avg):\n",
    "#     Q, policy, ep_lengths = exp_sarsa(env=env, epsilon=epsilon, step_size=step_size, num_eps=num_episodes, gamma=gamma)\n",
    "#     exp_sarsa_ep_lengths.append(ep_lengths)\n",
    "    # save_array(ep_lengths, f'comparison/exp_sarsa_ep_lengths_{i}.txt')\n",
    "\n",
    "for i in range(num_to_avg):\n",
    "    array = load_array(f'comparison/exp_sarsa_ep_lengths_{i}.txt')\n",
    "    exp_sarsa_ep_lengths.append(array)\n"
   ]
  },
  {
   "cell_type": "code",
   "execution_count": 46,
   "metadata": {},
   "outputs": [],
   "source": [
    "# Q-Learning\n",
    "q_learning_ep_lengths = []\n",
    "\n",
    "# np.random.seed(seed)\n",
    "# env.reset(seed=seed)\n",
    "# for i in range(num_to_avg):\n",
    "#     Q, policy, ep_lengths = q_learning(env=env, epsilon=epsilon, step_size=step_size, num_eps=num_episodes, gamma=gamma)\n",
    "#     q_learning_ep_lengths.append(ep_lengths)\n",
    "#     save_array(ep_lengths, f'comparison/q_learning_ep_lengths_{i}.txt')\n",
    "\n",
    "for i in range(num_to_avg):\n",
    "    array = load_array(f'comparison/q_learning_ep_lengths_{i}.txt')\n",
    "    q_learning_ep_lengths.append(array)\n",
    "    "
   ]
  },
  {
   "cell_type": "code",
   "execution_count": null,
   "metadata": {},
   "outputs": [],
   "source": [
    "# plot_episode_lengths([mc_e_soft_ep_lengths_default, q_learning_ep_lengths], ['MC Epsilon Soft','Q-Learning'], smoothing=100)\n",
    "# plot_episode_lengths([sarsa_ep_lengths], ['SASRSA'], smoothing=10)\n",
    "plot_episode_lengths([mc_e_soft_ep_lengths_default[0:1], n_step_sarsa_ep_lengths], ['MC', '100-Step SARSA'], smoothing=100, error_range=False)\n",
    "# plot_episode_lengths([mc_e_soft_ep_lengths_default, mc_e_soft_ep_lengths_custom], ['MC Epsilon Soft', 'MC Epsilon Soft Custom'], smoothing=100, error_range=False)\n",
    "plot_episode_lengths([sarsa_ep_lengths, n_step_sarsa_ep_lengths, exp_sarsa_ep_lengths, q_learning_ep_lengths], ['SARSA', '6-step SARSA', 'Expected SARSA', 'Q-Learning'], smoothing=100, error_range=False)\n",
    "# plot_episode_lengths([mc_e_soft_ep_lengths_default, mc_e_soft_ep_lengths_custom, sarsa_ep_lengths, n_step_sarsa_ep_lengths, exp_sarsa_ep_lengths, q_learning_ep_lengths], ['MC Epsilon Soft', 'MC Epsilon Soft Custom', 'SARSA', '6-step SARSA', 'Expected SARSA', 'Q-Learning'], smoothing=100, error_range=False)"
   ]
  },
  {
   "cell_type": "code",
   "execution_count": 57,
   "metadata": {},
   "outputs": [
    {
     "ename": "",
     "evalue": "",
     "output_type": "error",
     "traceback": [
      "\u001b[1;31mThe Kernel crashed while executing code in the the current cell or a previous cell. Please review the code in the cell(s) to identify a possible cause of the failure. Click <a href='https://aka.ms/vscodeJupyterKernelCrash'>here</a> for more info. View Jupyter <a href='command:jupyter.viewOutput'>log</a> for further details."
     ]
    }
   ],
   "source": [
    "# run_iterations(env=gym.make('CartPole-v1', render_mode='human'), Q=Q, n=5)"
   ]
  }
 ],
 "metadata": {
  "kernelspec": {
   "display_name": "base",
   "language": "python",
   "name": "python3"
  },
  "language_info": {
   "codemirror_mode": {
    "name": "ipython",
    "version": 3
   },
   "file_extension": ".py",
   "mimetype": "text/x-python",
   "name": "python",
   "nbconvert_exporter": "python",
   "pygments_lexer": "ipython3",
   "version": "3.9.12"
  }
 },
 "nbformat": 4,
 "nbformat_minor": 2
}
