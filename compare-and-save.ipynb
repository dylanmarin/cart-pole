{
 "cells": [
  {
   "cell_type": "markdown",
   "metadata": {},
   "source": [
    "__Goal__ \n",
    "\n",
    "Test:\n",
    "- MC e-soft normal reward\n",
    "- MC e-soft custom reward\n",
    "- SARSA \n",
    "- 6-step SARSA\n",
    "- exp-SARSA\n",
    "- Q-Learning\n",
    "\n",
    "10,000 episodes, average of 10 trials"
   ]
  },
  {
   "cell_type": "code",
   "execution_count": 1,
   "metadata": {},
   "outputs": [],
   "source": [
    "from discretize import discretize\n",
    "from collections import defaultdict\n",
    "from monte_carlo import *\n",
    "from q_io import *\n",
    "from tqdm import trange\n",
    "from td_methods import *\n",
    "import gymnasium as gym\n",
    "from plots import *"
   ]
  },
  {
   "cell_type": "code",
   "execution_count": 7,
   "metadata": {},
   "outputs": [],
   "source": [
    "epsilon = 0.04\n",
    "num_episodes = 1000\n",
    "gamma = 0.95\n",
    "num_to_avg = 2\n",
    "env = gym.make('CartPole-v1')\n",
    "\n",
    "mc_e_soft_ep_lengths_default = []\n",
    "mc_e_soft_ep_lengths_custom = []\n",
    "sarsa_ep_lengths = []\n",
    "n_step_sarsa_ep_lengths = []\n",
    "exp_sarsa_ep_lengths = []\n",
    "q_learning_ep_lengths = []"
   ]
  },
  {
   "cell_type": "code",
   "execution_count": 8,
   "metadata": {},
   "outputs": [
    {
     "name": "stderr",
     "output_type": "stream",
     "text": [
      "                                                            \r"
     ]
    }
   ],
   "source": [
    "# Monte Carlo Default Reward\n",
    "for i in range(num_to_avg):\n",
    "    Q, policy, _, ep_lengths = on_policy_mc_control_epsilon_soft(env=env, epsilon=epsilon, num_episodes=num_episodes, gamma=gamma)\n",
    "    mc_e_soft_ep_lengths_default.append(ep_lengths)"
   ]
  },
  {
   "cell_type": "code",
   "execution_count": 9,
   "metadata": {},
   "outputs": [
    {
     "name": "stderr",
     "output_type": "stream",
     "text": [
      "                                                            \r"
     ]
    }
   ],
   "source": [
    "# Monte Carlo Custom Reward\n",
    "for i in range(num_to_avg):\n",
    "    Q, policy, _, ep_lengths = on_policy_mc_control_epsilon_soft(env=env, epsilon=epsilon, num_episodes=num_episodes, gamma=gamma, episode_generator_func=generate_episode_reward_central_vertical)\n",
    "    mc_e_soft_ep_lengths_custom.append(ep_lengths)"
   ]
  },
  {
   "cell_type": "code",
   "execution_count": 10,
   "metadata": {},
   "outputs": [],
   "source": [
    "# SARSA\n",
    "for i in range(num_to_avg):\n",
    "    Q, policy, _, ep_lengths = sarsa(env=env, epsilon=epsilon, num_episodes=num_episodes, gamma=gamma, episode_generator_func=generate_episode_sarsa)\n",
    "    sarsa_ep_lengths.append(ep_lengths)"
   ]
  },
  {
   "cell_type": "code",
   "execution_count": null,
   "metadata": {},
   "outputs": [],
   "source": []
  }
 ],
 "metadata": {
  "kernelspec": {
   "display_name": "base",
   "language": "python",
   "name": "python3"
  },
  "language_info": {
   "codemirror_mode": {
    "name": "ipython",
    "version": 3
   },
   "file_extension": ".py",
   "mimetype": "text/x-python",
   "name": "python",
   "nbconvert_exporter": "python",
   "pygments_lexer": "ipython3",
   "version": "3.9.12"
  }
 },
 "nbformat": 4,
 "nbformat_minor": 2
}
